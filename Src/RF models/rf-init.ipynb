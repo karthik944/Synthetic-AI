{
 "cells": [
  {
   "cell_type": "markdown",
   "metadata": {},
   "source": [
    "### Environment setups and libraries import"
   ]
  },
  {
   "cell_type": "code",
   "execution_count": 1,
   "metadata": {},
   "outputs": [
    {
     "name": "stdout",
     "output_type": "stream",
     "text": [
      "Requirement already satisfied: textdescriptives in /opt/anaconda3/envs/llms/lib/python3.11/site-packages (2.8.4)\n",
      "Requirement already satisfied: spacy in /opt/anaconda3/envs/llms/lib/python3.11/site-packages (3.8.7)\n",
      "Requirement already satisfied: pandas in /opt/anaconda3/envs/llms/lib/python3.11/site-packages (2.2.3)\n",
      "Requirement already satisfied: numpy in /opt/anaconda3/envs/llms/lib/python3.11/site-packages (1.26.4)\n",
      "Requirement already satisfied: scikit-learn in /opt/anaconda3/envs/llms/lib/python3.11/site-packages (1.6.1)\n",
      "Requirement already satisfied: tensorflow in /opt/anaconda3/envs/llms/lib/python3.11/site-packages (2.19.0)\n",
      "Requirement already satisfied: shap in /opt/anaconda3/envs/llms/lib/python3.11/site-packages (0.47.2)\n",
      "Requirement already satisfied: matplotlib in /opt/anaconda3/envs/llms/lib/python3.11/site-packages (3.10.1)\n",
      "Requirement already satisfied: seaborn in /opt/anaconda3/envs/llms/lib/python3.11/site-packages (0.13.2)\n",
      "Requirement already satisfied: kagglehub in /opt/anaconda3/envs/llms/lib/python3.11/site-packages (0.3.12)\n",
      "Requirement already satisfied: pyphen>=0.11.0 in /opt/anaconda3/envs/llms/lib/python3.11/site-packages (from textdescriptives) (0.17.2)\n",
      "Requirement already satisfied: ftfy>=6.0.3 in /opt/anaconda3/envs/llms/lib/python3.11/site-packages (from textdescriptives) (6.3.1)\n",
      "Requirement already satisfied: pydantic>=2.0 in /opt/anaconda3/envs/llms/lib/python3.11/site-packages (from textdescriptives) (2.11.3)\n",
      "Requirement already satisfied: spacy-legacy<3.1.0,>=3.0.11 in /opt/anaconda3/envs/llms/lib/python3.11/site-packages (from spacy) (3.0.12)\n",
      "Requirement already satisfied: spacy-loggers<2.0.0,>=1.0.0 in /opt/anaconda3/envs/llms/lib/python3.11/site-packages (from spacy) (1.0.5)\n",
      "Requirement already satisfied: murmurhash<1.1.0,>=0.28.0 in /opt/anaconda3/envs/llms/lib/python3.11/site-packages (from spacy) (1.0.13)\n",
      "Requirement already satisfied: cymem<2.1.0,>=2.0.2 in /opt/anaconda3/envs/llms/lib/python3.11/site-packages (from spacy) (2.0.11)\n",
      "Requirement already satisfied: preshed<3.1.0,>=3.0.2 in /opt/anaconda3/envs/llms/lib/python3.11/site-packages (from spacy) (3.0.10)\n",
      "Requirement already satisfied: thinc<8.4.0,>=8.3.4 in /opt/anaconda3/envs/llms/lib/python3.11/site-packages (from spacy) (8.3.4)\n",
      "Requirement already satisfied: wasabi<1.2.0,>=0.9.1 in /opt/anaconda3/envs/llms/lib/python3.11/site-packages (from spacy) (1.1.3)\n",
      "Requirement already satisfied: srsly<3.0.0,>=2.4.3 in /opt/anaconda3/envs/llms/lib/python3.11/site-packages (from spacy) (2.5.1)\n",
      "Requirement already satisfied: catalogue<2.1.0,>=2.0.6 in /opt/anaconda3/envs/llms/lib/python3.11/site-packages (from spacy) (2.0.10)\n",
      "Requirement already satisfied: weasel<0.5.0,>=0.1.0 in /opt/anaconda3/envs/llms/lib/python3.11/site-packages (from spacy) (0.4.1)\n",
      "Requirement already satisfied: typer<1.0.0,>=0.3.0 in /opt/anaconda3/envs/llms/lib/python3.11/site-packages (from spacy) (0.15.3)\n",
      "Requirement already satisfied: tqdm<5.0.0,>=4.38.0 in /opt/anaconda3/envs/llms/lib/python3.11/site-packages (from spacy) (4.67.1)\n",
      "Requirement already satisfied: requests<3.0.0,>=2.13.0 in /opt/anaconda3/envs/llms/lib/python3.11/site-packages (from spacy) (2.32.3)\n",
      "Requirement already satisfied: jinja2 in /opt/anaconda3/envs/llms/lib/python3.11/site-packages (from spacy) (3.1.6)\n",
      "Requirement already satisfied: setuptools in /opt/anaconda3/envs/llms/lib/python3.11/site-packages (from spacy) (80.3.0)\n",
      "Requirement already satisfied: packaging>=20.0 in /opt/anaconda3/envs/llms/lib/python3.11/site-packages (from spacy) (24.2)\n",
      "Requirement already satisfied: langcodes<4.0.0,>=3.2.0 in /opt/anaconda3/envs/llms/lib/python3.11/site-packages (from spacy) (3.5.0)\n",
      "Requirement already satisfied: language-data>=1.2 in /opt/anaconda3/envs/llms/lib/python3.11/site-packages (from langcodes<4.0.0,>=3.2.0->spacy) (1.3.0)\n",
      "Requirement already satisfied: annotated-types>=0.6.0 in /opt/anaconda3/envs/llms/lib/python3.11/site-packages (from pydantic>=2.0->textdescriptives) (0.7.0)\n",
      "Requirement already satisfied: pydantic-core==2.33.1 in /opt/anaconda3/envs/llms/lib/python3.11/site-packages (from pydantic>=2.0->textdescriptives) (2.33.1)\n",
      "Requirement already satisfied: typing-extensions>=4.12.2 in /opt/anaconda3/envs/llms/lib/python3.11/site-packages (from pydantic>=2.0->textdescriptives) (4.13.2)\n",
      "Requirement already satisfied: typing-inspection>=0.4.0 in /opt/anaconda3/envs/llms/lib/python3.11/site-packages (from pydantic>=2.0->textdescriptives) (0.4.0)\n",
      "Requirement already satisfied: charset_normalizer<4,>=2 in /opt/anaconda3/envs/llms/lib/python3.11/site-packages (from requests<3.0.0,>=2.13.0->spacy) (3.4.2)\n",
      "Requirement already satisfied: idna<4,>=2.5 in /opt/anaconda3/envs/llms/lib/python3.11/site-packages (from requests<3.0.0,>=2.13.0->spacy) (3.10)\n",
      "Requirement already satisfied: urllib3<3,>=1.21.1 in /opt/anaconda3/envs/llms/lib/python3.11/site-packages (from requests<3.0.0,>=2.13.0->spacy) (2.4.0)\n",
      "Requirement already satisfied: certifi>=2017.4.17 in /opt/anaconda3/envs/llms/lib/python3.11/site-packages (from requests<3.0.0,>=2.13.0->spacy) (2025.1.31)\n",
      "Requirement already satisfied: blis<1.3.0,>=1.2.0 in /opt/anaconda3/envs/llms/lib/python3.11/site-packages (from thinc<8.4.0,>=8.3.4->spacy) (1.2.1)\n",
      "Requirement already satisfied: confection<1.0.0,>=0.0.1 in /opt/anaconda3/envs/llms/lib/python3.11/site-packages (from thinc<8.4.0,>=8.3.4->spacy) (0.1.5)\n",
      "Requirement already satisfied: click>=8.0.0 in /opt/anaconda3/envs/llms/lib/python3.11/site-packages (from typer<1.0.0,>=0.3.0->spacy) (8.1.8)\n",
      "Requirement already satisfied: shellingham>=1.3.0 in /opt/anaconda3/envs/llms/lib/python3.11/site-packages (from typer<1.0.0,>=0.3.0->spacy) (1.5.4)\n",
      "Requirement already satisfied: rich>=10.11.0 in /opt/anaconda3/envs/llms/lib/python3.11/site-packages (from typer<1.0.0,>=0.3.0->spacy) (14.0.0)\n",
      "Requirement already satisfied: cloudpathlib<1.0.0,>=0.7.0 in /opt/anaconda3/envs/llms/lib/python3.11/site-packages (from weasel<0.5.0,>=0.1.0->spacy) (0.21.1)\n",
      "Requirement already satisfied: smart-open<8.0.0,>=5.2.1 in /opt/anaconda3/envs/llms/lib/python3.11/site-packages (from weasel<0.5.0,>=0.1.0->spacy) (7.1.0)\n",
      "Requirement already satisfied: wrapt in /opt/anaconda3/envs/llms/lib/python3.11/site-packages (from smart-open<8.0.0,>=5.2.1->weasel<0.5.0,>=0.1.0->spacy) (1.17.2)\n",
      "Requirement already satisfied: python-dateutil>=2.8.2 in /opt/anaconda3/envs/llms/lib/python3.11/site-packages (from pandas) (2.9.0.post0)\n",
      "Requirement already satisfied: pytz>=2020.1 in /opt/anaconda3/envs/llms/lib/python3.11/site-packages (from pandas) (2025.2)\n",
      "Requirement already satisfied: tzdata>=2022.7 in /opt/anaconda3/envs/llms/lib/python3.11/site-packages (from pandas) (2025.2)\n",
      "Requirement already satisfied: scipy>=1.6.0 in /opt/anaconda3/envs/llms/lib/python3.11/site-packages (from scikit-learn) (1.13.1)\n",
      "Requirement already satisfied: joblib>=1.2.0 in /opt/anaconda3/envs/llms/lib/python3.11/site-packages (from scikit-learn) (1.4.2)\n",
      "Requirement already satisfied: threadpoolctl>=3.1.0 in /opt/anaconda3/envs/llms/lib/python3.11/site-packages (from scikit-learn) (3.6.0)\n",
      "Requirement already satisfied: absl-py>=1.0.0 in /opt/anaconda3/envs/llms/lib/python3.11/site-packages (from tensorflow) (2.2.2)\n",
      "Requirement already satisfied: astunparse>=1.6.0 in /opt/anaconda3/envs/llms/lib/python3.11/site-packages (from tensorflow) (1.6.3)\n",
      "Requirement already satisfied: flatbuffers>=24.3.25 in /opt/anaconda3/envs/llms/lib/python3.11/site-packages (from tensorflow) (25.2.10)\n",
      "Requirement already satisfied: gast!=0.5.0,!=0.5.1,!=0.5.2,>=0.2.1 in /opt/anaconda3/envs/llms/lib/python3.11/site-packages (from tensorflow) (0.6.0)\n",
      "Requirement already satisfied: google-pasta>=0.1.1 in /opt/anaconda3/envs/llms/lib/python3.11/site-packages (from tensorflow) (0.2.0)\n",
      "Requirement already satisfied: libclang>=13.0.0 in /opt/anaconda3/envs/llms/lib/python3.11/site-packages (from tensorflow) (18.1.1)\n",
      "Requirement already satisfied: opt-einsum>=2.3.2 in /opt/anaconda3/envs/llms/lib/python3.11/site-packages (from tensorflow) (3.4.0)\n",
      "Requirement already satisfied: protobuf!=4.21.0,!=4.21.1,!=4.21.2,!=4.21.3,!=4.21.4,!=4.21.5,<6.0.0dev,>=3.20.3 in /opt/anaconda3/envs/llms/lib/python3.11/site-packages (from tensorflow) (5.29.3)\n",
      "Requirement already satisfied: six>=1.12.0 in /opt/anaconda3/envs/llms/lib/python3.11/site-packages (from tensorflow) (1.17.0)\n",
      "Requirement already satisfied: termcolor>=1.1.0 in /opt/anaconda3/envs/llms/lib/python3.11/site-packages (from tensorflow) (3.1.0)\n",
      "Requirement already satisfied: grpcio<2.0,>=1.24.3 in /opt/anaconda3/envs/llms/lib/python3.11/site-packages (from tensorflow) (1.71.0)\n",
      "Requirement already satisfied: tensorboard~=2.19.0 in /opt/anaconda3/envs/llms/lib/python3.11/site-packages (from tensorflow) (2.19.0)\n",
      "Requirement already satisfied: keras>=3.5.0 in /opt/anaconda3/envs/llms/lib/python3.11/site-packages (from tensorflow) (3.10.0)\n",
      "Requirement already satisfied: h5py>=3.11.0 in /opt/anaconda3/envs/llms/lib/python3.11/site-packages (from tensorflow) (3.13.0)\n",
      "Requirement already satisfied: ml-dtypes<1.0.0,>=0.5.1 in /opt/anaconda3/envs/llms/lib/python3.11/site-packages (from tensorflow) (0.5.1)\n",
      "Requirement already satisfied: tensorflow-io-gcs-filesystem>=0.23.1 in /opt/anaconda3/envs/llms/lib/python3.11/site-packages (from tensorflow) (0.37.1)\n",
      "Requirement already satisfied: markdown>=2.6.8 in /opt/anaconda3/envs/llms/lib/python3.11/site-packages (from tensorboard~=2.19.0->tensorflow) (3.8)\n",
      "Requirement already satisfied: tensorboard-data-server<0.8.0,>=0.7.0 in /opt/anaconda3/envs/llms/lib/python3.11/site-packages (from tensorboard~=2.19.0->tensorflow) (0.7.2)\n",
      "Requirement already satisfied: werkzeug>=1.0.1 in /opt/anaconda3/envs/llms/lib/python3.11/site-packages (from tensorboard~=2.19.0->tensorflow) (3.1.3)\n",
      "Requirement already satisfied: slicer==0.0.8 in /opt/anaconda3/envs/llms/lib/python3.11/site-packages (from shap) (0.0.8)\n",
      "Requirement already satisfied: numba>=0.54 in /opt/anaconda3/envs/llms/lib/python3.11/site-packages (from shap) (0.61.2)\n",
      "Requirement already satisfied: cloudpickle in /opt/anaconda3/envs/llms/lib/python3.11/site-packages (from shap) (3.1.1)\n",
      "Requirement already satisfied: contourpy>=1.0.1 in /opt/anaconda3/envs/llms/lib/python3.11/site-packages (from matplotlib) (1.3.2)\n",
      "Requirement already satisfied: cycler>=0.10 in /opt/anaconda3/envs/llms/lib/python3.11/site-packages (from matplotlib) (0.12.1)\n",
      "Requirement already satisfied: fonttools>=4.22.0 in /opt/anaconda3/envs/llms/lib/python3.11/site-packages (from matplotlib) (4.57.0)\n",
      "Requirement already satisfied: kiwisolver>=1.3.1 in /opt/anaconda3/envs/llms/lib/python3.11/site-packages (from matplotlib) (1.4.7)\n",
      "Requirement already satisfied: pillow>=8 in /opt/anaconda3/envs/llms/lib/python3.11/site-packages (from matplotlib) (11.1.0)\n",
      "Requirement already satisfied: pyparsing>=2.3.1 in /opt/anaconda3/envs/llms/lib/python3.11/site-packages (from matplotlib) (3.2.3)\n",
      "Requirement already satisfied: pyyaml in /opt/anaconda3/envs/llms/lib/python3.11/site-packages (from kagglehub) (6.0.2)\n",
      "Requirement already satisfied: wheel<1.0,>=0.23.0 in /opt/anaconda3/envs/llms/lib/python3.11/site-packages (from astunparse>=1.6.0->tensorflow) (0.45.1)\n",
      "Requirement already satisfied: wcwidth in /opt/anaconda3/envs/llms/lib/python3.11/site-packages (from ftfy>=6.0.3->textdescriptives) (0.2.13)\n",
      "Requirement already satisfied: namex in /opt/anaconda3/envs/llms/lib/python3.11/site-packages (from keras>=3.5.0->tensorflow) (0.0.9)\n",
      "Requirement already satisfied: optree in /opt/anaconda3/envs/llms/lib/python3.11/site-packages (from keras>=3.5.0->tensorflow) (0.15.0)\n",
      "Requirement already satisfied: marisa-trie>=1.1.0 in /opt/anaconda3/envs/llms/lib/python3.11/site-packages (from language-data>=1.2->langcodes<4.0.0,>=3.2.0->spacy) (1.2.1)\n",
      "Requirement already satisfied: llvmlite<0.45,>=0.44.0dev0 in /opt/anaconda3/envs/llms/lib/python3.11/site-packages (from numba>=0.54->shap) (0.44.0)\n",
      "Requirement already satisfied: markdown-it-py>=2.2.0 in /opt/anaconda3/envs/llms/lib/python3.11/site-packages (from rich>=10.11.0->typer<1.0.0,>=0.3.0->spacy) (3.0.0)\n",
      "Requirement already satisfied: pygments<3.0.0,>=2.13.0 in /opt/anaconda3/envs/llms/lib/python3.11/site-packages (from rich>=10.11.0->typer<1.0.0,>=0.3.0->spacy) (2.19.1)\n",
      "Requirement already satisfied: mdurl~=0.1 in /opt/anaconda3/envs/llms/lib/python3.11/site-packages (from markdown-it-py>=2.2.0->rich>=10.11.0->typer<1.0.0,>=0.3.0->spacy) (0.1.2)\n",
      "Requirement already satisfied: spacy_lookups_data<1.1.0,>=1.0.3 in /opt/anaconda3/envs/llms/lib/python3.11/site-packages (from spacy[lookups]>=3.6.0->textdescriptives) (1.0.5)\n",
      "Requirement already satisfied: MarkupSafe>=2.1.1 in /opt/anaconda3/envs/llms/lib/python3.11/site-packages (from werkzeug>=1.0.1->tensorboard~=2.19.0->tensorflow) (3.0.2)\n",
      "Collecting en-core-web-lg==3.8.0\n",
      "  Downloading https://github.com/explosion/spacy-models/releases/download/en_core_web_lg-3.8.0/en_core_web_lg-3.8.0-py3-none-any.whl (400.7 MB)\n",
      "\u001b[2K     \u001b[90m━━━━━━━━━━━━━━━━━━━━━━━━━━━━━━━━━━━━━━━\u001b[0m \u001b[32m400.7/400.7 MB\u001b[0m \u001b[31m5.7 MB/s\u001b[0m eta \u001b[36m0:00:00\u001b[0m00:01\u001b[0m00:02\u001b[0m\n",
      "\u001b[?25h\u001b[38;5;2m✔ Download and installation successful\u001b[0m\n",
      "You can now load the package via spacy.load('en_core_web_lg')\n"
     ]
    }
   ],
   "source": [
    "!pip install textdescriptives spacy pandas numpy scikit-learn tensorflow shap matplotlib seaborn kagglehub\n",
    "!python -m spacy download en_core_web_lg"
   ]
  },
  {
   "cell_type": "code",
   "execution_count": null,
   "metadata": {},
   "outputs": [],
   "source": [
    "!pip install --upgrade --force-reinstall numpy pandas "
   ]
  },
  {
   "cell_type": "code",
   "execution_count": 2,
   "metadata": {},
   "outputs": [],
   "source": [
    "import pandas as pd\n",
    "import numpy as np\n",
    "#import nltk\n",
    "import kagglehub\n",
    "import os\n",
    "import spacy\n",
    "#from nltk.corpus import stopwords\n",
    "#from nltk.stem import WordNetLemmatizer\n",
    "#from nltk.tokenize import word_tokenize\n",
    "from sklearn.ensemble import RandomForestClassifier\n",
    "from sklearn.feature_extraction.text import TfidfVectorizer\n",
    "from sklearn.model_selection import train_test_split\n",
    "from sklearn.metrics import accuracy_score, classification_report, confusion_matrix\n",
    "import matplotlib.pyplot as plt\n",
    "import seaborn as sns"
   ]
  },
  {
   "cell_type": "markdown",
   "metadata": {},
   "source": [
    "### Handle inputs from sources"
   ]
  },
  {
   "cell_type": "markdown",
   "metadata": {},
   "source": [
    "##### Fetch dataset from KaggleHub and load the full dataset \n",
    "- Fetch dataset from KaggleHub.\n",
    "- Find the CSV file within downloaded dataset.\n",
    "- Load the full dataset using the correct path.\n"
   ]
  },
  {
   "cell_type": "code",
   "execution_count": 3,
   "metadata": {},
   "outputs": [],
   "source": [
    "# Fetch dataset from KaggleHub\n",
    "dataset_path = kagglehub.dataset_download(\"shanegerami/ai-vs-human-text\")\n",
    "\n",
    "# Find the CSV file within the downloaded dataset.\n",
    "csv_file = None\n",
    "for filename in os.listdir(dataset_path):\n",
    "    if filename.endswith(\".csv\"):\n",
    "        csv_file = filename\n",
    "        break\n",
    "\n",
    "if csv_file is None:\n",
    "    raise FileNotFoundError(f\"No CSV file found in the dataset directory: {dataset_path}\")\n",
    "\n",
    "#  Construct the full path to the CSV file\n",
    "csv_file_path = os.path.join(dataset_path, csv_file)\n",
    "\n",
    "# Load the full dataset using the correct path\n",
    "df_ai_human = pd.read_csv(csv_file_path)"
   ]
  },
  {
   "cell_type": "markdown",
   "metadata": {},
   "source": [
    "##### Seperate AI-generated and Human-written data\n",
    "- Separates AI-generated and Human-written Data\n",
    "- Handles Cases with Insufficient Data\n",
    "- Randomly Samples Data (if sufficient)"
   ]
  },
  {
   "cell_type": "code",
   "execution_count": 4,
   "metadata": {},
   "outputs": [],
   "source": [
    "# Split df_ai_human into df_ai and df_human\n",
    "df_ai = df_ai_human[df_ai_human['generated'] == 1]\n",
    "df_human = df_ai_human[df_ai_human['generated'] == 0]\n",
    "\n",
    "\n",
    "# Check if number of rows of df_ai is less than 10000\n",
    "if os.path.exists(csv_file_path):\n",
    "    df_ai_r = df_ai.sample(n=10000, random_state=42)\n",
    "    df_human_r = df_human.sample(n=10000, random_state=42)\n",
    "    df_balanced = pd.concat([df_ai_r, df_human_r]).sample(frac=1, random_state=42).reset_index(drop=True)\n",
    "    df_balanced.rename(columns={'generated': 'label'}, inplace=True)"
   ]
  },
  {
   "cell_type": "markdown",
   "metadata": {},
   "source": [
    "##### Set of n stylometric features"
   ]
  },
  {
   "cell_type": "code",
   "execution_count": 5,
   "metadata": {},
   "outputs": [
    {
     "name": "stderr",
     "output_type": "stream",
     "text": [
      "/opt/anaconda3/envs/llms/lib/python3.11/site-packages/textdescriptives/components/coherence.py:44: UserWarning: [W008] Evaluating Span.similarity based on empty vectors.\n",
      "  similarities.append(sent.similarity(sents[i + order]))\n"
     ]
    },
    {
     "name": "stdout",
     "output_type": "stream",
     "text": [
      "Shape of df_final after handling missing values: (20000, 71)\n"
     ]
    }
   ],
   "source": [
    "# Load spaCy model with textdescriptives\n",
    "import textdescriptives as td\n",
    "import spacy\n",
    "\n",
    "#nlp = spacy.load(\"en_core_web_sm\")\n",
    "nlp = spacy.load(\"en_core_web_lg\")\n",
    "nlp.add_pipe(\"textdescriptives/all\")\n",
    "docs = list(nlp.pipe(df_balanced[\"text\"].astype(str)))\n",
    "df_features = td.extract_df(docs)\n",
    "df_final = pd.concat([df_features, df_balanced[\"label\"]], axis=1)\n",
    "\n",
    "threshold = 0.5  # Set your threshold here\n",
    "df_final = df_final.dropna(thresh=int(threshold * len(df_final)), axis=1)\n",
    "\n",
    "print(f\"Shape of df_final after handling missing values: {df_final.shape}\")"
   ]
  },
  {
   "cell_type": "markdown",
   "metadata": {},
   "source": [
    "### Data Processing"
   ]
  },
  {
   "cell_type": "markdown",
   "metadata": {},
   "source": [
    "### Feature Extraction "
   ]
  },
  {
   "cell_type": "code",
   "execution_count": 6,
   "metadata": {},
   "outputs": [
    {
     "name": "stdout",
     "output_type": "stream",
     "text": [
      "✅ Training: 16000 samples\n",
      "✅ Validation: 2000 samples\n",
      "✅ Testing: 2000 samples\n"
     ]
    }
   ],
   "source": [
    "from sklearn.model_selection import train_test_split\n",
    "from sklearn.preprocessing import StandardScaler\n",
    "import numpy as np\n",
    "\n",
    "# ✅ Step 1: Prepare features and labels\n",
    "# If 'text' column exists, use it for TF-IDF, otherwise use numerical features\n",
    "\"\"\"\n",
    "if \"text\" in df_final.columns:\n",
    "    X = df_final[\"text\"]  # Text data for TF-IDF\n",
    "    y = df_final[\"label\"]\n",
    "    \n",
    "    # Initialize and fit the vectorizer\n",
    "    vectorizer = TfidfVectorizer(max_features=5000)\n",
    "    X = vectorizer.fit_transform(X)  # Transform text data\n",
    "else:\n",
    "    X = df_final.drop(columns=[\"label\"])  # Numerical features\n",
    "    y = df_final[\"label\"]\n",
    "\"\"\"\n",
    "if \"text\" in df_final.columns:\n",
    "    X = df_final[\"text\"]  # Text data for TF-IDF\n",
    "    y = df_final[\"label\"]\n",
    "\n",
    "    # Find NaN values in X (text data) and y\n",
    "    #nan_mask_X = X.isna()\n",
    "    nan_mask_y = y.isna()\n",
    "    \n",
    "    #print(nan_mask_X)\n",
    "    #print(nan_mask_y)\n",
    "\n",
    "    # Combine the masks to find rows where either X or y is NaN\n",
    "    nan_mask = nan_mask_y\n",
    "\n",
    "    # Get the indices of rows with NaN values\n",
    "    nan_indices = nan_mask[nan_mask].index\n",
    "\n",
    "    # Drop the rows with NaN values from df_final\n",
    "    df_final = df_final.drop(nan_indices)\n",
    "\n",
    "    # Update X and y after dropping rows\n",
    "    X = df_final[\"text\"]  # Text data for TF-IDF\n",
    "    y = df_final[\"label\"]\n",
    "\n",
    "    # Initialize and fit the vectorizer\n",
    "    vectorizer = TfidfVectorizer(max_features=5000)\n",
    "    X = vectorizer.fit_transform(X)  # Transform text data\n",
    "\n",
    "else:\n",
    "    X = df_final.drop(columns=[\"label\"])  # Numerical features\n",
    "    y = df_final[\"label\"]\n",
    "\n",
    "    # Find NaN values in X (numerical features) and y\n",
    "    nan_mask_X = X.isna().any(axis=1)  # Check for NaNs in any column of each row\n",
    "    nan_mask_y = y.isna()\n",
    "\n",
    "    # Combine the masks to find rows where either X or y is NaN\n",
    "    nan_mask = nan_mask_X | nan_mask_y\n",
    "\n",
    "    # Get the indices of rows with NaN values\n",
    "    nan_indices = nan_mask[nan_mask].index\n",
    "\n",
    "    # Drop the rows with NaN values from df_final\n",
    "    df_final = df_final.drop(nan_indices)\n",
    "\n",
    "    # Update X and y after dropping rows\n",
    "    X = df_final.drop(columns=[\"label\"])  # Numerical features\n",
    "    y = df_final[\"label\"]\n",
    "\n",
    "\n",
    "# ✅ Step 2: First, split 80% for training, 20% temp (which we'll further split into val/test)\n",
    "X_train, X_temp, y_train, y_temp = train_test_split(\n",
    "    X, y, test_size=0.2, random_state=42, stratify=y\n",
    ")\n",
    "\n",
    "# ✅ Step 3: Split the 20% temp into 50% val, 50% test → each gets 10% of total data\n",
    "X_val, X_test, y_val, y_test = train_test_split(\n",
    "    X_temp, y_temp, test_size=0.5, random_state=42, stratify=y_temp\n",
    ")\n",
    "\n",
    "# If you have numerical features alongside text, scale them\n",
    "if \"text\" in df_final.columns:\n",
    "    # No scaling needed for TF-IDF output directly\n",
    "    pass\n",
    "else:\n",
    "    # ✅ Step 4: Normalize features using StandardScaler (if not using text)\n",
    "    scaler = StandardScaler()\n",
    "    X_train = scaler.fit_transform(X_train)\n",
    "    X_val = scaler.transform(X_val)\n",
    "    X_test = scaler.transform(X_test)\n",
    "\n",
    "\n",
    "# ✅ Confirm sizes\n",
    "print(f\"✅ Training: {X_train.shape[0]} samples\")\n",
    "print(f\"✅ Validation: {X_val.shape[0]} samples\")\n",
    "print(f\"✅ Testing: {X_test.shape[0]} samples\")"
   ]
  },
  {
   "cell_type": "markdown",
   "metadata": {},
   "source": [
    "### Classifier Training"
   ]
  },
  {
   "cell_type": "code",
   "execution_count": 7,
   "metadata": {},
   "outputs": [
    {
     "name": "stdout",
     "output_type": "stream",
     "text": [
      "✅ Validation Accuracy: 0.9740\n",
      "✅ Classification Report:\n",
      "              precision    recall  f1-score   support\n",
      "\n",
      "         0.0       0.96      0.99      0.97      1000\n",
      "         1.0       0.99      0.96      0.97      1000\n",
      "\n",
      "    accuracy                           0.97      2000\n",
      "   macro avg       0.97      0.97      0.97      2000\n",
      "weighted avg       0.97      0.97      0.97      2000\n",
      "\n",
      "✅ Test Accuracy: 0.9765\n",
      "✅ Test Classification Report:\n",
      "              precision    recall  f1-score   support\n",
      "\n",
      "         0.0       0.96      0.99      0.98      1000\n",
      "         1.0       0.99      0.96      0.98      1000\n",
      "\n",
      "    accuracy                           0.98      2000\n",
      "   macro avg       0.98      0.98      0.98      2000\n",
      "weighted avg       0.98      0.98      0.98      2000\n",
      "\n"
     ]
    },
    {
     "data": {
      "image/png": "[encoded data removed]",
      "text/plain": [
       "<Figure size 800x600 with 2 Axes>"
      ]
     },
     "metadata": {},
     "output_type": "display_data"
    },
    {
     "data": {
      "image/png": "[encoded data removed]",
      "text/plain": [
       "<Figure size 800x600 with 2 Axes>"
      ]
     },
     "metadata": {},
     "output_type": "display_data"
    }
   ],
   "source": [
    "# This code blocks splits the data into training and testing sets.\n",
    "#\n",
    "# X: The feature matrix (independent variables).\n",
    "# y: The target variable (dependent variable).\n",
    "#\n",
    "# Keyword Arguments:\n",
    "#   test_size=0.2:  Specifies that 20% of the data should be used for the test set,\n",
    "#                   and the remaining 80% for the training set.\n",
    "#   random_state=42: Sets the seed for the random number generator, ensuring that the\n",
    "#                    split is reproducible.  Using the same random_state will always\n",
    "#                    result in the same train/test split.\n",
    "#   stratify=y:     Performs stratified splitting, maintaining the same class proportions\n",
    "#                    in both the training and testing sets as in the original dataset.\n",
    "#                    This is particularly important for imbalanced datasets to ensure\n",
    "#                    that the test set is representative of all classes.\n",
    "#\n",
    "# Returns:\n",
    "#   x_train: Feature matrix for the training set.\n",
    "#   x_test:  Feature matrix for the test set.\n",
    "#   y_train: Target variable for the training set.\n",
    "#   y_test:  Target variable for the test set.\n",
    "# ✅ Step 6: Train RandomForestClassifier\n",
    "rf_classifier = RandomForestClassifier(n_estimators=100, random_state=42, criterion=\"gini\")  # You can adjust hyperparameters\n",
    "rf_classifier.fit(X_train, y_train)\n",
    "\n",
    "# ✅ Step 7: Evaluate the model\n",
    "y_pred = rf_classifier.predict(X_val)\n",
    "accuracy = accuracy_score(y_val, y_pred)\n",
    "print(f\"✅ Validation Accuracy: {accuracy:.4f}\")\n",
    "\n",
    "# ✅ Step 8: Print Classification Report\n",
    "print(\"✅ Classification Report:\")\n",
    "print(classification_report(y_val, y_pred))\n",
    "\n",
    "# ✅ Step 9: Evaluate on the test set\n",
    "y_test_pred = rf_classifier.predict(X_test)\n",
    "test_accuracy = accuracy_score(y_test, y_test_pred)\n",
    "print(f\"✅ Test Accuracy: {test_accuracy:.4f}\")\n",
    "print(\"✅ Test Classification Report:\")\n",
    "print(classification_report(y_test, y_test_pred))\n",
    "\n",
    "# ✅ Step 10: Plot Confusion Matrix for Validation Set\n",
    "cm = confusion_matrix(y_val, y_pred)\n",
    "plt.figure(figsize=(8, 6))\n",
    "sns.heatmap(cm, annot=True, fmt=\"d\", cmap=\"Blues\")\n",
    "plt.title(\"Validation Confusion Matrix\")\n",
    "plt.xlabel(\"Predicted Label\")\n",
    "plt.ylabel(\"True Label\")\n",
    "plt.show()\n",
    "\n",
    "\n",
    "# ✅ Step 11: Plot Confusion Matrix for Test Set\n",
    "cm_test = confusion_matrix(y_test, y_test_pred)\n",
    "plt.figure(figsize=(8, 6))\n",
    "sns.heatmap(cm_test, annot=True, fmt=\"d\", cmap=\"Blues\")\n",
    "plt.title(\"Test Confusion Matrix\")\n",
    "plt.xlabel(\"Predicted Label\")\n",
    "plt.ylabel(\"True Label\")\n",
    "plt.show()"
   ]
  }
 ],
 "metadata": {
  "kernelspec": {
   "display_name": "llms",
   "language": "python",
   "name": "python3"
  },
  "language_info": {
   "codemirror_mode": {
    "name": "ipython",
    "version": 3
   },
   "file_extension": ".py",
   "mimetype": "text/x-python",
   "name": "python",
   "nbconvert_exporter": "python",
   "pygments_lexer": "ipython3",
   "version": "3.11.12"
  }
 },
 "nbformat": 4,
 "nbformat_minor": 2
}
