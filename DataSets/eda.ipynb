{
 "cells": [
  {
   "cell_type": "code",
   "execution_count": 1,
   "metadata": {},
   "outputs": [
    {
     "name": "stderr",
     "output_type": "stream",
     "text": [
      "Matplotlib is building the font cache; this may take a moment.\n"
     ]
    }
   ],
   "source": [
    "import pandas as pd\n",
    "import numpy as np\n",
    "import matplotlib.pyplot as plt\n",
    "import seaborn as sns\n",
    "import nltk\n",
    "\n",
    "# Load the dataset\n",
    "df = pd.read_csv(\"AI_Human.csv\")  # Replace \"your_dataset.csv\""
   ]
  },
  {
   "cell_type": "markdown",
   "metadata": {},
   "source": [
    "### Initial Data Inspection\n",
    "##### 1. Shape and Size\n",
    "##### 2. Missing Values\n",
    "##### 3. First Few Rows\n",
    "##### 4. Descriptive Statistics"
   ]
  },
  {
   "cell_type": "code",
   "execution_count": null,
   "metadata": {},
   "outputs": [
    {
     "name": "stdout",
     "output_type": "stream",
     "text": [
      "(487235, 2)\n",
      "text          object\n",
      "generated    float64\n",
      "dtype: object\n",
      "text         0\n",
      "generated    0\n",
      "dtype: int64\n",
      "                                                text  generated\n",
      "0  Cars. Cars have been around since they became ...        0.0\n",
      "1  Transportation is a large necessity in most co...        0.0\n",
      "2  \"America's love affair with it's vehicles seem...        0.0\n",
      "3  How often do you ride in a car? Do you drive a...        0.0\n",
      "4  Cars are a wonderful thing. They are perhaps o...        0.0\n",
      "           generated\n",
      "count  487235.000000\n",
      "mean        0.372383\n",
      "std         0.483440\n",
      "min         0.000000\n",
      "25%         0.000000\n",
      "50%         0.000000\n",
      "75%         1.000000\n",
      "max         1.000000\n"
     ]
    }
   ],
   "source": [
    "print(df.shape) # Shape and Size\n",
    "print(df.dtypes) # Data Types of each column\n",
    "print(df.isnull().sum())  # Missing values per column\n",
    "print(df.head()) # First few rows\n",
    "print(df.describe()) # Descriptive Statistics"
   ]
  },
  {
   "cell_type": "markdown",
   "metadata": {},
   "source": [
    "### Text-specific EDA "
   ]
  },
  {
   "cell_type": "markdown",
   "metadata": {},
   "source": [
    "#### Basic Text Statistics:\n",
    "##### 1. Document Length: Calculate the length of each text (number of characters, number of words, number of sentences).\n",
    "##### 2. Average Word Length: Calculate the average length of words in each text.\n",
    "##### 3. Vocabulary Size: Determine the number of unique words in each text and in the entire dataset.\n",
    "##### 4. Sentence Length: Calculate the number of words per sentence."
   ]
  },
  {
   "cell_type": "code",
   "execution_count": null,
   "metadata": {},
   "outputs": [],
   "source": []
  },
  {
   "cell_type": "code",
   "execution_count": 7,
   "metadata": {},
   "outputs": [
    {
     "name": "stdout",
     "output_type": "stream",
     "text": [
      "          char_count     word_count  avg_word_length\n",
      "count  487235.000000  487235.000000    487235.000000\n",
      "mean     2269.586592     393.096214         4.755985\n",
      "std       988.814028     168.593328         0.521039\n",
      "min         1.000000       0.000000         0.000000\n",
      "25%      1583.000000     278.000000         4.415595\n",
      "50%      2102.000000     363.000000         4.685144\n",
      "75%      2724.000000     471.000000         5.020000\n",
      "max     18322.000000    1668.000000       126.000000\n",
      "Vocabulary size: 544828\n"
     ]
    }
   ],
   "source": [
    "df['char_count'] = df['text'].str.len()\n",
    "df['word_count'] = df['text'].apply(lambda x: len(x.split()))\n",
    "#df['sentence_count'] = df['text'].apply(lambda x: len(nltk.sent_tokenize(x)))\n",
    "\n",
    "def avg_word_len(text):\n",
    "    words = text.split()\n",
    "    return sum(len(word) for word in words) / len(words) if len(words) > 0 else 0\n",
    "\n",
    "df['avg_word_length'] = df['text'].apply(avg_word_len)\n",
    "\n",
    "print(df[['char_count', 'word_count', 'avg_word_length']].describe())\n",
    "\n",
    "# Vocabulary size (number of unique words)\n",
    "all_words = ' '.join(df['text']).split()\n",
    "unique_words = set(all_words)\n",
    "print(f\"Vocabulary size: {len(unique_words)}\")"
   ]
  }
 ],
 "metadata": {
  "kernelspec": {
   "display_name": "venv",
   "language": "python",
   "name": "python3"
  },
  "language_info": {
   "codemirror_mode": {
    "name": "ipython",
    "version": 3
   },
   "file_extension": ".py",
   "mimetype": "text/x-python",
   "name": "python",
   "nbconvert_exporter": "python",
   "pygments_lexer": "ipython3",
   "version": "3.13.1"
  }
 },
 "nbformat": 4,
 "nbformat_minor": 2
}
